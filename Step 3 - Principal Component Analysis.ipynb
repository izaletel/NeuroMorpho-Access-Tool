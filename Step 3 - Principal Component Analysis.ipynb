{
 "cells": [
  {
   "cell_type": "markdown",
   "metadata": {},
   "source": [
    "### Step 3 - Principal Component Analysis"
   ]
  },
  {
   "cell_type": "markdown",
   "metadata": {},
   "source": [
    "#### This Python notebook will demonstrate how to use Principal Component Analysis (PCA)\n",
    "\n",
    "#### PCA is a statistical methods for reducing the dimensionality of datasets, but at the same time minimizing information loss. It does so by creating new uncorrelated variables that successively maximize variance\n",
    "\n",
    "#### The dataset used for PCA in this example is the mouse_zebra.csv file generated in Step 2"
   ]
  },
  {
   "cell_type": "code",
   "execution_count": 125,
   "metadata": {},
   "outputs": [],
   "source": [
    "# Module importing\n",
    "\n",
    "import pandas as pd\n",
    "from pandas import DataFrame\n",
    "import numpy as np\n",
    "import matplotlib.pyplot as plt\n",
    "import re\n",
    "%matplotlib inline\n",
    "from sklearn.preprocessing import StandardScaler\n",
    "from sklearn.decomposition import PCA"
   ]
  },
  {
   "cell_type": "code",
   "execution_count": 95,
   "metadata": {},
   "outputs": [
    {
     "data": {
      "text/plain": [
       "(292, 61)"
      ]
     },
     "execution_count": 95,
     "metadata": {},
     "output_type": "execute_result"
    }
   ],
   "source": [
    "# Dataframe loading from the downloaded mouse_zebra.csv file from Step 2.\n",
    "# Brain region: cerebellum; species: mouse and zebrafish; cell: principal.\n",
    "\n",
    "df = pd.read_csv('mouse_zebra.csv')\n",
    "df.shape"
   ]
  },
  {
   "cell_type": "code",
   "execution_count": 98,
   "metadata": {},
   "outputs": [],
   "source": [
    "# In order to do PCA it is necessary to drop out all columns that do not contain numerical data\n",
    "# and which are not important for the PCA of neuron morphology.\n",
    "# However we will need to return one of these columns at the end as it will be used for classification purposes.\n",
    "# In our example we will return the column 'Species'.\n",
    "# Parameter 'Soma surface' is also being dropped out as it contain NaN values which can not be present for PCA\n",
    "\n",
    "df_pca = df.drop(columns=['Neuron Name', 'Archive', 'Note', 'Age Scale', 'Gender',\n",
    "       'Age Classification', 'Brain Region', 'Cell Type', 'Species', 'Strain',\n",
    "       'Scientific Name', 'Stain', 'Experiment Condition', 'Protocol',\n",
    "       'Slicing Direction', 'Reconstruction Software', 'Objective Type',\n",
    "       'Original Format', 'Domain', 'Attributes', 'Magnification', 'Upload Date',\n",
    "       'Deposition Date', 'Shrinkage Reported', 'Shrinkage Corrected',\n",
    "       'Reported Value', 'Reported XY', 'Reported Z', 'Corrected Value',\n",
    "       'Corrected XY', 'Corrected Z', 'Slicing Thickness', 'Min Age', 'Max Age',\n",
    "       'Min Weight', 'Max Weight', 'Png URL', 'Reference PMID', 'Reference DOI',\n",
    "       'Physical Integrity', 'Soma surface'])"
   ]
  },
  {
   "cell_type": "code",
   "execution_count": 99,
   "metadata": {},
   "outputs": [
    {
     "data": {
      "text/plain": [
       "Index(['Surface', 'Volume', 'Number of stems', 'Number of bifurcations',\n",
       "       'Number of branches', 'Width', 'Height', 'Depth', 'Diameter',\n",
       "       'Euclidian distance', 'Path distance', 'Branching order', 'Contraction',\n",
       "       'Fragmentation', 'Partition asymmetry', 'Pk classic',\n",
       "       'Bifurcation angle local', 'Fractal dimension',\n",
       "       'Bifurcation angle remote', 'Length'],\n",
       "      dtype='object')"
      ]
     },
     "execution_count": 99,
     "metadata": {},
     "output_type": "execute_result"
    }
   ],
   "source": [
    "features = df_pca.columns\n",
    "features"
   ]
  },
  {
   "cell_type": "code",
   "execution_count": 100,
   "metadata": {},
   "outputs": [],
   "source": [
    "# The first step is to get normal distribution of our morphometric data \n",
    "# Such that it will scale the distribution to a mean of zero and a standard deviation of one"
   ]
  },
  {
   "cell_type": "code",
   "execution_count": 104,
   "metadata": {},
   "outputs": [
    {
     "data": {
      "text/plain": [
       "(292, 20)"
      ]
     },
     "execution_count": 104,
     "metadata": {},
     "output_type": "execute_result"
    }
   ],
   "source": [
    "x = df_pca.loc[:, features].values\n",
    "x = StandardScaler().fit_transform(x) # normalizing the features\n",
    "x.shape"
   ]
  },
  {
   "cell_type": "code",
   "execution_count": 105,
   "metadata": {},
   "outputs": [
    {
     "data": {
      "text/plain": [
       "(3.1572917796189384e-16, 1.0)"
      ]
     },
     "execution_count": 105,
     "metadata": {},
     "output_type": "execute_result"
    }
   ],
   "source": [
    "np.mean(x),np.std(x)"
   ]
  },
  {
   "cell_type": "code",
   "execution_count": 106,
   "metadata": {},
   "outputs": [],
   "source": [
    "# Conversion into a tabular format with the help of DataFrame"
   ]
  },
  {
   "cell_type": "code",
   "execution_count": 107,
   "metadata": {},
   "outputs": [],
   "source": [
    "feat_cols = ['feature'+str(i) for i in range(x.shape[1])]"
   ]
  },
  {
   "cell_type": "code",
   "execution_count": 68,
   "metadata": {},
   "outputs": [],
   "source": [
    "normalised_df = pd.DataFrame(x,columns=feat_cols)"
   ]
  },
  {
   "cell_type": "code",
   "execution_count": 108,
   "metadata": {},
   "outputs": [
    {
     "data": {
      "text/html": [
       "<div>\n",
       "<style scoped>\n",
       "    .dataframe tbody tr th:only-of-type {\n",
       "        vertical-align: middle;\n",
       "    }\n",
       "\n",
       "    .dataframe tbody tr th {\n",
       "        vertical-align: top;\n",
       "    }\n",
       "\n",
       "    .dataframe thead th {\n",
       "        text-align: right;\n",
       "    }\n",
       "</style>\n",
       "<table border=\"1\" class=\"dataframe\">\n",
       "  <thead>\n",
       "    <tr style=\"text-align: right;\">\n",
       "      <th></th>\n",
       "      <th>feature0</th>\n",
       "      <th>feature1</th>\n",
       "      <th>feature2</th>\n",
       "      <th>feature3</th>\n",
       "      <th>feature4</th>\n",
       "      <th>feature5</th>\n",
       "      <th>feature6</th>\n",
       "      <th>feature7</th>\n",
       "      <th>feature8</th>\n",
       "      <th>feature9</th>\n",
       "      <th>feature10</th>\n",
       "      <th>feature11</th>\n",
       "      <th>feature12</th>\n",
       "      <th>feature13</th>\n",
       "      <th>feature14</th>\n",
       "      <th>feature15</th>\n",
       "      <th>feature16</th>\n",
       "      <th>feature17</th>\n",
       "      <th>feature18</th>\n",
       "      <th>feature19</th>\n",
       "    </tr>\n",
       "  </thead>\n",
       "  <tbody>\n",
       "    <tr>\n",
       "      <th>0</th>\n",
       "      <td>0.016212</td>\n",
       "      <td>-0.220404</td>\n",
       "      <td>0.749331</td>\n",
       "      <td>3.035230</td>\n",
       "      <td>3.036843</td>\n",
       "      <td>0.209477</td>\n",
       "      <td>0.366857</td>\n",
       "      <td>4.951698</td>\n",
       "      <td>-0.546187</td>\n",
       "      <td>0.507090</td>\n",
       "      <td>0.192559</td>\n",
       "      <td>0.860369</td>\n",
       "      <td>-1.191037</td>\n",
       "      <td>5.734934</td>\n",
       "      <td>0.233628</td>\n",
       "      <td>-0.091681</td>\n",
       "      <td>-2.938442</td>\n",
       "      <td>0.557139</td>\n",
       "      <td>-1.677174</td>\n",
       "      <td>0.940254</td>\n",
       "    </tr>\n",
       "    <tr>\n",
       "      <th>1</th>\n",
       "      <td>0.010727</td>\n",
       "      <td>-0.221620</td>\n",
       "      <td>0.749331</td>\n",
       "      <td>3.216803</td>\n",
       "      <td>3.218410</td>\n",
       "      <td>0.130997</td>\n",
       "      <td>0.313484</td>\n",
       "      <td>3.014221</td>\n",
       "      <td>-0.546187</td>\n",
       "      <td>0.429402</td>\n",
       "      <td>0.126076</td>\n",
       "      <td>0.600970</td>\n",
       "      <td>-0.737850</td>\n",
       "      <td>5.900745</td>\n",
       "      <td>-0.438158</td>\n",
       "      <td>-0.091681</td>\n",
       "      <td>-3.112968</td>\n",
       "      <td>-0.096150</td>\n",
       "      <td>-1.606982</td>\n",
       "      <td>0.918765</td>\n",
       "    </tr>\n",
       "    <tr>\n",
       "      <th>2</th>\n",
       "      <td>0.180876</td>\n",
       "      <td>-0.183877</td>\n",
       "      <td>0.749331</td>\n",
       "      <td>4.239347</td>\n",
       "      <td>4.240918</td>\n",
       "      <td>0.316100</td>\n",
       "      <td>0.627326</td>\n",
       "      <td>3.092939</td>\n",
       "      <td>-0.546187</td>\n",
       "      <td>0.606447</td>\n",
       "      <td>0.249860</td>\n",
       "      <td>1.314317</td>\n",
       "      <td>-0.711666</td>\n",
       "      <td>9.457424</td>\n",
       "      <td>-0.012065</td>\n",
       "      <td>-0.091681</td>\n",
       "      <td>-3.069833</td>\n",
       "      <td>0.004112</td>\n",
       "      <td>-1.954616</td>\n",
       "      <td>1.585466</td>\n",
       "    </tr>\n",
       "    <tr>\n",
       "      <th>3</th>\n",
       "      <td>0.185536</td>\n",
       "      <td>-0.182843</td>\n",
       "      <td>-1.334523</td>\n",
       "      <td>3.952652</td>\n",
       "      <td>3.949456</td>\n",
       "      <td>0.470013</td>\n",
       "      <td>0.501244</td>\n",
       "      <td>3.591486</td>\n",
       "      <td>-0.546187</td>\n",
       "      <td>0.705478</td>\n",
       "      <td>0.294664</td>\n",
       "      <td>0.406421</td>\n",
       "      <td>-0.982655</td>\n",
       "      <td>9.379414</td>\n",
       "      <td>-0.470121</td>\n",
       "      <td>-0.091681</td>\n",
       "      <td>-3.418385</td>\n",
       "      <td>-0.078842</td>\n",
       "      <td>-2.041885</td>\n",
       "      <td>1.603725</td>\n",
       "    </tr>\n",
       "    <tr>\n",
       "      <th>4</th>\n",
       "      <td>2.858153</td>\n",
       "      <td>2.527182</td>\n",
       "      <td>-1.334523</td>\n",
       "      <td>0.789457</td>\n",
       "      <td>0.786370</td>\n",
       "      <td>2.836732</td>\n",
       "      <td>3.848913</td>\n",
       "      <td>-1.150214</td>\n",
       "      <td>1.957167</td>\n",
       "      <td>2.357746</td>\n",
       "      <td>1.976859</td>\n",
       "      <td>0.276722</td>\n",
       "      <td>1.296429</td>\n",
       "      <td>0.261638</td>\n",
       "      <td>0.111710</td>\n",
       "      <td>-0.091681</td>\n",
       "      <td>-1.495723</td>\n",
       "      <td>-1.762617</td>\n",
       "      <td>-1.775024</td>\n",
       "      <td>2.726522</td>\n",
       "    </tr>\n",
       "  </tbody>\n",
       "</table>\n",
       "</div>"
      ],
      "text/plain": [
       "   feature0  feature1  feature2  feature3  feature4  feature5  feature6  \\\n",
       "0  0.016212 -0.220404  0.749331  3.035230  3.036843  0.209477  0.366857   \n",
       "1  0.010727 -0.221620  0.749331  3.216803  3.218410  0.130997  0.313484   \n",
       "2  0.180876 -0.183877  0.749331  4.239347  4.240918  0.316100  0.627326   \n",
       "3  0.185536 -0.182843 -1.334523  3.952652  3.949456  0.470013  0.501244   \n",
       "4  2.858153  2.527182 -1.334523  0.789457  0.786370  2.836732  3.848913   \n",
       "\n",
       "   feature7  feature8  feature9  feature10  feature11  feature12  feature13  \\\n",
       "0  4.951698 -0.546187  0.507090   0.192559   0.860369  -1.191037   5.734934   \n",
       "1  3.014221 -0.546187  0.429402   0.126076   0.600970  -0.737850   5.900745   \n",
       "2  3.092939 -0.546187  0.606447   0.249860   1.314317  -0.711666   9.457424   \n",
       "3  3.591486 -0.546187  0.705478   0.294664   0.406421  -0.982655   9.379414   \n",
       "4 -1.150214  1.957167  2.357746   1.976859   0.276722   1.296429   0.261638   \n",
       "\n",
       "   feature14  feature15  feature16  feature17  feature18  feature19  \n",
       "0   0.233628  -0.091681  -2.938442   0.557139  -1.677174   0.940254  \n",
       "1  -0.438158  -0.091681  -3.112968  -0.096150  -1.606982   0.918765  \n",
       "2  -0.012065  -0.091681  -3.069833   0.004112  -1.954616   1.585466  \n",
       "3  -0.470121  -0.091681  -3.418385  -0.078842  -2.041885   1.603725  \n",
       "4   0.111710  -0.091681  -1.495723  -1.762617  -1.775024   2.726522  "
      ]
     },
     "execution_count": 108,
     "metadata": {},
     "output_type": "execute_result"
    }
   ],
   "source": [
    "# Showing first 5 cells\n",
    "\n",
    "normalised_df.head()"
   ]
  },
  {
   "cell_type": "code",
   "execution_count": 109,
   "metadata": {},
   "outputs": [
    {
     "data": {
      "text/html": [
       "<div>\n",
       "<style scoped>\n",
       "    .dataframe tbody tr th:only-of-type {\n",
       "        vertical-align: middle;\n",
       "    }\n",
       "\n",
       "    .dataframe tbody tr th {\n",
       "        vertical-align: top;\n",
       "    }\n",
       "\n",
       "    .dataframe thead th {\n",
       "        text-align: right;\n",
       "    }\n",
       "</style>\n",
       "<table border=\"1\" class=\"dataframe\">\n",
       "  <thead>\n",
       "    <tr style=\"text-align: right;\">\n",
       "      <th></th>\n",
       "      <th>feature0</th>\n",
       "      <th>feature1</th>\n",
       "      <th>feature2</th>\n",
       "      <th>feature3</th>\n",
       "      <th>feature4</th>\n",
       "      <th>feature5</th>\n",
       "      <th>feature6</th>\n",
       "      <th>feature7</th>\n",
       "      <th>feature8</th>\n",
       "      <th>feature9</th>\n",
       "      <th>feature10</th>\n",
       "      <th>feature11</th>\n",
       "      <th>feature12</th>\n",
       "      <th>feature13</th>\n",
       "      <th>feature14</th>\n",
       "      <th>feature15</th>\n",
       "      <th>feature16</th>\n",
       "      <th>feature17</th>\n",
       "      <th>feature18</th>\n",
       "      <th>feature19</th>\n",
       "    </tr>\n",
       "  </thead>\n",
       "  <tbody>\n",
       "    <tr>\n",
       "      <th>287</th>\n",
       "      <td>0.177399</td>\n",
       "      <td>-0.184648</td>\n",
       "      <td>0.749331</td>\n",
       "      <td>4.468702</td>\n",
       "      <td>4.470266</td>\n",
       "      <td>0.770546</td>\n",
       "      <td>0.623904</td>\n",
       "      <td>-0.452756</td>\n",
       "      <td>-0.546187</td>\n",
       "      <td>0.715823</td>\n",
       "      <td>0.201822</td>\n",
       "      <td>1.444016</td>\n",
       "      <td>0.633742</td>\n",
       "      <td>1.915772</td>\n",
       "      <td>-0.057629</td>\n",
       "      <td>-0.091681</td>\n",
       "      <td>-0.804385</td>\n",
       "      <td>-1.125793</td>\n",
       "      <td>-1.132388</td>\n",
       "      <td>1.571844</td>\n",
       "    </tr>\n",
       "    <tr>\n",
       "      <th>288</th>\n",
       "      <td>0.270823</td>\n",
       "      <td>-0.163924</td>\n",
       "      <td>-1.334523</td>\n",
       "      <td>3.522611</td>\n",
       "      <td>3.519429</td>\n",
       "      <td>1.358194</td>\n",
       "      <td>0.616400</td>\n",
       "      <td>-0.345259</td>\n",
       "      <td>-0.546187</td>\n",
       "      <td>0.839707</td>\n",
       "      <td>0.440585</td>\n",
       "      <td>2.157363</td>\n",
       "      <td>0.012926</td>\n",
       "      <td>2.409840</td>\n",
       "      <td>0.158794</td>\n",
       "      <td>-0.091681</td>\n",
       "      <td>-0.912913</td>\n",
       "      <td>-0.702791</td>\n",
       "      <td>-1.466943</td>\n",
       "      <td>1.937912</td>\n",
       "    </tr>\n",
       "    <tr>\n",
       "      <th>289</th>\n",
       "      <td>0.030026</td>\n",
       "      <td>-0.217339</td>\n",
       "      <td>-1.334523</td>\n",
       "      <td>1.410628</td>\n",
       "      <td>1.407520</td>\n",
       "      <td>0.556976</td>\n",
       "      <td>0.621092</td>\n",
       "      <td>-0.193748</td>\n",
       "      <td>-0.546187</td>\n",
       "      <td>0.489529</td>\n",
       "      <td>0.149275</td>\n",
       "      <td>0.471271</td>\n",
       "      <td>0.198143</td>\n",
       "      <td>0.994327</td>\n",
       "      <td>0.318293</td>\n",
       "      <td>-0.091681</td>\n",
       "      <td>-0.991859</td>\n",
       "      <td>-0.973816</td>\n",
       "      <td>-1.658294</td>\n",
       "      <td>0.994383</td>\n",
       "    </tr>\n",
       "    <tr>\n",
       "      <th>290</th>\n",
       "      <td>0.126263</td>\n",
       "      <td>-0.195991</td>\n",
       "      <td>0.749331</td>\n",
       "      <td>4.564267</td>\n",
       "      <td>4.565828</td>\n",
       "      <td>0.797304</td>\n",
       "      <td>0.517105</td>\n",
       "      <td>0.011088</td>\n",
       "      <td>-0.546187</td>\n",
       "      <td>0.591030</td>\n",
       "      <td>0.227728</td>\n",
       "      <td>1.638565</td>\n",
       "      <td>0.720040</td>\n",
       "      <td>1.633098</td>\n",
       "      <td>-0.093430</td>\n",
       "      <td>-0.091681</td>\n",
       "      <td>-0.904196</td>\n",
       "      <td>-1.149645</td>\n",
       "      <td>-1.327060</td>\n",
       "      <td>1.371477</td>\n",
       "    </tr>\n",
       "    <tr>\n",
       "      <th>291</th>\n",
       "      <td>0.127566</td>\n",
       "      <td>-0.195702</td>\n",
       "      <td>-1.334523</td>\n",
       "      <td>3.216803</td>\n",
       "      <td>3.213632</td>\n",
       "      <td>0.992163</td>\n",
       "      <td>0.272787</td>\n",
       "      <td>0.437688</td>\n",
       "      <td>-0.546187</td>\n",
       "      <td>0.549537</td>\n",
       "      <td>0.366713</td>\n",
       "      <td>2.676160</td>\n",
       "      <td>0.068599</td>\n",
       "      <td>1.584456</td>\n",
       "      <td>-0.085908</td>\n",
       "      <td>-0.091681</td>\n",
       "      <td>-0.803368</td>\n",
       "      <td>-0.734452</td>\n",
       "      <td>-1.275366</td>\n",
       "      <td>1.376578</td>\n",
       "    </tr>\n",
       "  </tbody>\n",
       "</table>\n",
       "</div>"
      ],
      "text/plain": [
       "     feature0  feature1  feature2  feature3  feature4  feature5  feature6  \\\n",
       "287  0.177399 -0.184648  0.749331  4.468702  4.470266  0.770546  0.623904   \n",
       "288  0.270823 -0.163924 -1.334523  3.522611  3.519429  1.358194  0.616400   \n",
       "289  0.030026 -0.217339 -1.334523  1.410628  1.407520  0.556976  0.621092   \n",
       "290  0.126263 -0.195991  0.749331  4.564267  4.565828  0.797304  0.517105   \n",
       "291  0.127566 -0.195702 -1.334523  3.216803  3.213632  0.992163  0.272787   \n",
       "\n",
       "     feature7  feature8  feature9  feature10  feature11  feature12  feature13  \\\n",
       "287 -0.452756 -0.546187  0.715823   0.201822   1.444016   0.633742   1.915772   \n",
       "288 -0.345259 -0.546187  0.839707   0.440585   2.157363   0.012926   2.409840   \n",
       "289 -0.193748 -0.546187  0.489529   0.149275   0.471271   0.198143   0.994327   \n",
       "290  0.011088 -0.546187  0.591030   0.227728   1.638565   0.720040   1.633098   \n",
       "291  0.437688 -0.546187  0.549537   0.366713   2.676160   0.068599   1.584456   \n",
       "\n",
       "     feature14  feature15  feature16  feature17  feature18  feature19  \n",
       "287  -0.057629  -0.091681  -0.804385  -1.125793  -1.132388   1.571844  \n",
       "288   0.158794  -0.091681  -0.912913  -0.702791  -1.466943   1.937912  \n",
       "289   0.318293  -0.091681  -0.991859  -0.973816  -1.658294   0.994383  \n",
       "290  -0.093430  -0.091681  -0.904196  -1.149645  -1.327060   1.371477  \n",
       "291  -0.085908  -0.091681  -0.803368  -0.734452  -1.275366   1.376578  "
      ]
     },
     "execution_count": 109,
     "metadata": {},
     "output_type": "execute_result"
    }
   ],
   "source": [
    "# Showing last 5 cells\n",
    "\n",
    "normalised_df.tail()"
   ]
  },
  {
   "cell_type": "code",
   "execution_count": 112,
   "metadata": {},
   "outputs": [],
   "source": [
    "# Plotting to see the number of components we should use in our analysis.\n",
    "# Choosing a number of components that \"captures\" at least 95% of the variance. \n",
    "# The number of components is less than 2.5 judging by the graph (see bellow)."
   ]
  },
  {
   "cell_type": "code",
   "execution_count": 111,
   "metadata": {},
   "outputs": [
    {
     "data": {
      "text/plain": [
       "Text(0, 0.5, 'cumulative explained variance')"
      ]
     },
     "execution_count": 111,
     "metadata": {},
     "output_type": "execute_result"
    },
    {
     "data": {
      "image/png": "[encoded data removed]",
      "text/plain": [
       "<Figure size 432x288 with 1 Axes>"
      ]
     },
     "metadata": {
      "needs_background": "light"
     },
     "output_type": "display_data"
    }
   ],
   "source": [
    "pca = PCA().fit(df_pca)\n",
    "plt.plot(np.cumsum(pca.explained_variance_ratio_))\n",
    "plt.xlabel('number of components')\n",
    "plt.ylabel('cumulative explained variance')"
   ]
  },
  {
   "cell_type": "code",
   "execution_count": 116,
   "metadata": {},
   "outputs": [],
   "source": [
    "# The number of new components-variables (n_components=2).\n",
    "# We have chose 2 since the graph above has shown us that the number of components is less than 2.5.\n",
    "# The computers calculates which variables will go to the 1st or 2nd component."
   ]
  },
  {
   "cell_type": "code",
   "execution_count": 117,
   "metadata": {},
   "outputs": [],
   "source": [
    "pca_df = PCA(n_components=2)\n",
    "principalComponents_neurons = pca_df.fit_transform(x)"
   ]
  },
  {
   "cell_type": "code",
   "execution_count": 118,
   "metadata": {},
   "outputs": [],
   "source": [
    "principal_neurons_df = pd.DataFrame(data = principalComponents_neurons\n",
    "             , columns = ['principal component 1', 'principal component 2'])"
   ]
  },
  {
   "cell_type": "code",
   "execution_count": 119,
   "metadata": {},
   "outputs": [
    {
     "data": {
      "text/html": [
       "<div>\n",
       "<style scoped>\n",
       "    .dataframe tbody tr th:only-of-type {\n",
       "        vertical-align: middle;\n",
       "    }\n",
       "\n",
       "    .dataframe tbody tr th {\n",
       "        vertical-align: top;\n",
       "    }\n",
       "\n",
       "    .dataframe thead th {\n",
       "        text-align: right;\n",
       "    }\n",
       "</style>\n",
       "<table border=\"1\" class=\"dataframe\">\n",
       "  <thead>\n",
       "    <tr style=\"text-align: right;\">\n",
       "      <th></th>\n",
       "      <th>principal component 1</th>\n",
       "      <th>principal component 2</th>\n",
       "    </tr>\n",
       "  </thead>\n",
       "  <tbody>\n",
       "    <tr>\n",
       "      <th>287</th>\n",
       "      <td>4.538138</td>\n",
       "      <td>-2.947522</td>\n",
       "    </tr>\n",
       "    <tr>\n",
       "      <th>288</th>\n",
       "      <td>4.598595</td>\n",
       "      <td>-1.962442</td>\n",
       "    </tr>\n",
       "    <tr>\n",
       "      <th>289</th>\n",
       "      <td>2.373008</td>\n",
       "      <td>-1.218791</td>\n",
       "    </tr>\n",
       "    <tr>\n",
       "      <th>290</th>\n",
       "      <td>4.466847</td>\n",
       "      <td>-3.170783</td>\n",
       "    </tr>\n",
       "    <tr>\n",
       "      <th>291</th>\n",
       "      <td>3.791607</td>\n",
       "      <td>-2.098298</td>\n",
       "    </tr>\n",
       "  </tbody>\n",
       "</table>\n",
       "</div>"
      ],
      "text/plain": [
       "     principal component 1  principal component 2\n",
       "287               4.538138              -2.947522\n",
       "288               4.598595              -1.962442\n",
       "289               2.373008              -1.218791\n",
       "290               4.466847              -3.170783\n",
       "291               3.791607              -2.098298"
      ]
     },
     "execution_count": 119,
     "metadata": {},
     "output_type": "execute_result"
    }
   ],
   "source": [
    "principal_neurons_df.tail()"
   ]
  },
  {
   "cell_type": "code",
   "execution_count": 120,
   "metadata": {},
   "outputs": [],
   "source": [
    "# Next step shows how much information is contained in PC1 and PC2.\n",
    "# PC1 holds 46% of information and PC2 just 20%. \n",
    "# About 34% of information was lost when we projected our 20 morphometric data to 2 features"
   ]
  },
  {
   "cell_type": "code",
   "execution_count": 121,
   "metadata": {},
   "outputs": [
    {
     "name": "stdout",
     "output_type": "stream",
     "text": [
      "Explained variation per principal component: [0.45873017 0.19956998]\n"
     ]
    }
   ],
   "source": [
    "print('Explained variation per principal component: {}'.format(pca_df.explained_variance_ratio_))"
   ]
  },
  {
   "cell_type": "code",
   "execution_count": 122,
   "metadata": {},
   "outputs": [],
   "source": [
    "# In the next step we have to return the column 'Species'.\n",
    "# It had to be eliminated in the start because of the PCA analysis."
   ]
  },
  {
   "cell_type": "code",
   "execution_count": 123,
   "metadata": {},
   "outputs": [],
   "source": [
    "principal_neurons_df['Species'] = df['Species'].astype(str)"
   ]
  },
  {
   "cell_type": "code",
   "execution_count": 124,
   "metadata": {},
   "outputs": [
    {
     "data": {
      "text/html": [
       "<div>\n",
       "<style scoped>\n",
       "    .dataframe tbody tr th:only-of-type {\n",
       "        vertical-align: middle;\n",
       "    }\n",
       "\n",
       "    .dataframe tbody tr th {\n",
       "        vertical-align: top;\n",
       "    }\n",
       "\n",
       "    .dataframe thead th {\n",
       "        text-align: right;\n",
       "    }\n",
       "</style>\n",
       "<table border=\"1\" class=\"dataframe\">\n",
       "  <thead>\n",
       "    <tr style=\"text-align: right;\">\n",
       "      <th></th>\n",
       "      <th>principal component 1</th>\n",
       "      <th>principal component 2</th>\n",
       "      <th>Species</th>\n",
       "    </tr>\n",
       "  </thead>\n",
       "  <tbody>\n",
       "    <tr>\n",
       "      <th>287</th>\n",
       "      <td>4.538138</td>\n",
       "      <td>-2.947522</td>\n",
       "      <td>mouse</td>\n",
       "    </tr>\n",
       "    <tr>\n",
       "      <th>288</th>\n",
       "      <td>4.598595</td>\n",
       "      <td>-1.962442</td>\n",
       "      <td>mouse</td>\n",
       "    </tr>\n",
       "    <tr>\n",
       "      <th>289</th>\n",
       "      <td>2.373008</td>\n",
       "      <td>-1.218791</td>\n",
       "      <td>mouse</td>\n",
       "    </tr>\n",
       "    <tr>\n",
       "      <th>290</th>\n",
       "      <td>4.466847</td>\n",
       "      <td>-3.170783</td>\n",
       "      <td>mouse</td>\n",
       "    </tr>\n",
       "    <tr>\n",
       "      <th>291</th>\n",
       "      <td>3.791607</td>\n",
       "      <td>-2.098298</td>\n",
       "      <td>mouse</td>\n",
       "    </tr>\n",
       "  </tbody>\n",
       "</table>\n",
       "</div>"
      ],
      "text/plain": [
       "     principal component 1  principal component 2 Species\n",
       "287               4.538138              -2.947522   mouse\n",
       "288               4.598595              -1.962442   mouse\n",
       "289               2.373008              -1.218791   mouse\n",
       "290               4.466847              -3.170783   mouse\n",
       "291               3.791607              -2.098298   mouse"
      ]
     },
     "execution_count": 124,
     "metadata": {},
     "output_type": "execute_result"
    }
   ],
   "source": [
    "principal_neurons_df.tail()"
   ]
  },
  {
   "cell_type": "code",
   "execution_count": null,
   "metadata": {},
   "outputs": [],
   "source": [
    "# This is the final step in which we plot the PCA results"
   ]
  },
  {
   "cell_type": "code",
   "execution_count": 126,
   "metadata": {},
   "outputs": [
    {
     "data": {
      "text/plain": [
       "<matplotlib.legend.Legend at 0x1a4b68ee640>"
      ]
     },
     "execution_count": 126,
     "metadata": {},
     "output_type": "execute_result"
    },
    {
     "data": {
      "text/plain": [
       "<Figure size 432x288 with 0 Axes>"
      ]
     },
     "metadata": {},
     "output_type": "display_data"
    },
    {
     "data": {
      "image/png": "[encoded data removed]",
      "text/plain": [
       "<Figure size 720x720 with 1 Axes>"
      ]
     },
     "metadata": {
      "needs_background": "light"
     },
     "output_type": "display_data"
    }
   ],
   "source": [
    "plt.figure()\n",
    "plt.figure(figsize=(10,10))\n",
    "plt.xticks(fontsize=12)\n",
    "plt.yticks(fontsize=14)\n",
    "plt.xlabel('Principal Component - 1',fontsize=20)\n",
    "plt.ylabel('Principal Component - 2',fontsize=20)\n",
    "plt.title(\"Principal Component Analysis of Purkinje Cells\",fontsize=20)\n",
    "targets = ['mouse', 'zebrafish']\n",
    "colors = ['r', 'g']\n",
    "for target, color in zip(targets,colors):\n",
    "    indicesToKeep = principal_neurons_df['Species'] == target\n",
    "    plt.scatter(principal_neurons_df.loc[indicesToKeep, 'principal component 1']\n",
    "               , principal_neurons_df.loc[indicesToKeep, 'principal component 2'], c = color, s = 50)\n",
    "\n",
    "plt.legend(targets,prop={'size': 15})"
   ]
  },
  {
   "cell_type": "code",
   "execution_count": null,
   "metadata": {},
   "outputs": [],
   "source": [
    "# The last step will show us how component reduction was done.\n",
    "# This is actually a correlation between morphometric parameters and PCAs.\n",
    "# It shows us the influence of these parameters on PCA."
   ]
  },
  {
   "cell_type": "code",
   "execution_count": 143,
   "metadata": {},
   "outputs": [
    {
     "data": {
      "text/plain": [
       "array([[ 0.28896509,  0.27151515, -0.03855549,  0.242657  ,  0.24256022,\n",
       "         0.28420207,  0.28299275, -0.15417894,  0.23650189,  0.28480013,\n",
       "         0.26970253,  0.22382904,  0.21460242,  0.12949276, -0.02098798,\n",
       "        -0.0101712 , -0.17347252, -0.26134077, -0.16872088,  0.29805924],\n",
       "       [ 0.22929127,  0.21300902, -0.17728999, -0.21114625, -0.21154547,\n",
       "         0.23272715,  0.2333726 ,  0.1601905 , -0.04255564,  0.23336469,\n",
       "         0.25781486, -0.27717551, -0.28265143, -0.10036982,  0.07695272,\n",
       "        -0.08105652,  0.36288058,  0.21945323,  0.3606177 ,  0.18732652]])"
      ]
     },
     "execution_count": 143,
     "metadata": {},
     "output_type": "execute_result"
    }
   ],
   "source": [
    "pca_df.components_"
   ]
  },
  {
   "cell_type": "code",
   "execution_count": 147,
   "metadata": {},
   "outputs": [
    {
     "data": {
      "text/plain": [
       "<AxesSubplot:>"
      ]
     },
     "execution_count": 147,
     "metadata": {},
     "output_type": "execute_result"
    },
    {
     "data": {
      "image/png": "[encoded data removed]",
      "text/plain": [
       "<Figure size 864x432 with 2 Axes>"
      ]
     },
     "metadata": {
      "needs_background": "light"
     },
     "output_type": "display_data"
    }
   ],
   "source": [
    "# The features variable was defined in the begining of this .ipynb\n",
    "\n",
    "map= pd.DataFrame(pca_df.components_, columns=features)\n",
    "plt.figure(figsize=(12,6))\n",
    "sns.heatmap(map,cmap='twilight')"
   ]
  }
 ],
 "metadata": {
  "kernelspec": {
   "display_name": "Python 3 (ipykernel)",
   "language": "python",
   "name": "python3"
  },
  "language_info": {
   "codemirror_mode": {
    "name": "ipython",
    "version": 3
   },
   "file_extension": ".py",
   "mimetype": "text/x-python",
   "name": "python",
   "nbconvert_exporter": "python",
   "pygments_lexer": "ipython3",
   "version": "3.8.12"
  }
 },
 "nbformat": 4,
 "nbformat_minor": 4
}
